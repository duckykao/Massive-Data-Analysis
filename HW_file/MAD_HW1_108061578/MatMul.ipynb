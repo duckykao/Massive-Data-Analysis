{
 "cells": [
  {
   "cell_type": "code",
   "execution_count": 1,
   "metadata": {},
   "outputs": [],
   "source": [
    "import findspark\n",
    "findspark.init()\n",
    "findspark.find()\n",
    "import pyspark\n",
    "from pyspark import SparkConf, SparkContext"
   ]
  },
  {
   "cell_type": "markdown",
   "metadata": {},
   "source": [
    "import package from libraries, here we only use SparkConf and SparkContext"
   ]
  },
  {
   "cell_type": "code",
   "execution_count": 2,
   "metadata": {},
   "outputs": [],
   "source": [
    "conf = SparkConf().setMaster('local').setAppName('MatrixMultiplication')\n",
    "sc = SparkContext(conf=conf)"
   ]
  },
  {
   "cell_type": "code",
   "execution_count": 3,
   "metadata": {},
   "outputs": [],
   "source": [
    " inputs = sc.textFile(\"500input.txt\")"
   ]
  },
  {
   "cell_type": "code",
   "execution_count": 4,
   "metadata": {},
   "outputs": [],
   "source": [
    "def mapper_j(x):\n",
    "    p = x.split(',')\n",
    "    if p[0] == 'M':\n",
    "        return (p[2],[(p[0],p[1],p[3])])\n",
    "    elif p[0] == 'N':\n",
    "        return (p[1],[(p[0],p[2],p[3])])"
   ]
  },
  {
   "cell_type": "markdown",
   "metadata": {},
   "source": [
    "map every elements into form (j,(M,i,Value)) (j,(N,k,Value))"
   ]
  },
  {
   "cell_type": "code",
   "execution_count": 5,
   "metadata": {},
   "outputs": [],
   "source": [
    "def mapper_mul(x):\n",
    "    len_M = int(len(x[1])/2)\n",
    "    for i in range(len_M):\n",
    "        for j in range(len_M):\n",
    "            multi = float(x[1][i][2])*float(x[1][len_M+j][2])\n",
    "            yield ((i,j), multi)"
   ]
  },
  {
   "cell_type": "markdown",
   "metadata": {},
   "source": [
    "input x : (j,((M,i,Value) ... (N,k,Value))) for all i & j\n",
    "for each element we create pairs ((i,k), value_M * value_N)"
   ]
  },
  {
   "cell_type": "code",
   "execution_count": 6,
   "metadata": {},
   "outputs": [],
   "source": [
    "inputs_gb_j = inputs.map(mapper_j).reduceByKey(lambda p,q:p+q)"
   ]
  },
  {
   "cell_type": "markdown",
   "metadata": {},
   "source": [
    "for each pair (j,(M,i,Value)) (j,(N,k,Value)) we reduce it into (j,((M,i,Value) ... (N,k,Value))) for all i & j"
   ]
  },
  {
   "cell_type": "code",
   "execution_count": 7,
   "metadata": {},
   "outputs": [],
   "source": [
    "inputs_j = inputs_gb_j.collect()\n",
    "inputs_j = sc.parallelize(inputs_j)"
   ]
  },
  {
   "cell_type": "markdown",
   "metadata": {},
   "source": [
    "release it from RDD and put it back into RDD"
   ]
  },
  {
   "cell_type": "code",
   "execution_count": 8,
   "metadata": {},
   "outputs": [],
   "source": [
    "muls = inputs_j.flatMap(mapper_mul).reduceByKey(lambda p,q : p+q)"
   ]
  },
  {
   "cell_type": "markdown",
   "metadata": {},
   "source": [
    "map it by the mapper that we create before and collect and sum it by pair (i,k)"
   ]
  },
  {
   "cell_type": "code",
   "execution_count": 9,
   "metadata": {},
   "outputs": [],
   "source": [
    "outputs = muls.collect()\n",
    "f = open(\"Outputfile.txt\",'w')\n",
    "for lin in outputs:\n",
    "    f.write(str(lin[0][0])+\" \"+str(lin[0][1])+\" \"+str(lin[1])+\"\\n\")\n",
    "f.close()"
   ]
  },
  {
   "cell_type": "markdown",
   "metadata": {},
   "source": [
    "release it from RDD and save it to files"
   ]
  },
  {
   "cell_type": "code",
   "execution_count": 10,
   "metadata": {},
   "outputs": [],
   "source": [
    "sc.stop()"
   ]
  },
  {
   "cell_type": "markdown",
   "metadata": {},
   "source": [
    "end the spark "
   ]
  },
  {
   "cell_type": "code",
   "execution_count": null,
   "metadata": {},
   "outputs": [],
   "source": []
  }
 ],
 "metadata": {
  "kernelspec": {
   "display_name": "Python 3",
   "language": "python",
   "name": "python3"
  },
  "language_info": {
   "codemirror_mode": {
    "name": "ipython",
    "version": 3
   },
   "file_extension": ".py",
   "mimetype": "text/x-python",
   "name": "python",
   "nbconvert_exporter": "python",
   "pygments_lexer": "ipython3",
   "version": "3.7.3"
  }
 },
 "nbformat": 4,
 "nbformat_minor": 2
}
