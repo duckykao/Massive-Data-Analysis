{
 "cells": [
  {
   "cell_type": "code",
   "execution_count": 34,
   "metadata": {},
   "outputs": [],
   "source": [
    "import findspark\n",
    "findspark.init()\n",
    "findspark.find()\n",
    "import pyspark\n",
    "from pyspark import SparkConf, SparkContext\n",
    "import numpy as np\n",
    "\n",
    "conf = SparkConf().setMaster('local').setAppName('PageRank')\n",
    "sc = SparkContext(conf=conf)"
   ]
  },
  {
   "cell_type": "code",
   "execution_count": 35,
   "metadata": {},
   "outputs": [],
   "source": [
    "# set up parameters\n",
    "num_nodes = 10876\n",
    "beta = 0.8\n",
    "teleport = 1/num_nodes\n",
    "# load inputs\n",
    "inputs = sc.textFile(\"p2p-Gnutella04.txt\")"
   ]
  },
  {
   "cell_type": "code",
   "execution_count": 36,
   "metadata": {},
   "outputs": [],
   "source": [
    "def mapper_1(x):\n",
    "    x = x.split(\"\\t\")\n",
    "    j = x[0]\n",
    "    i = x[1].split(\"\\n\")[0]\n",
    "    print((j,i))\n",
    "    return (j,[(i,1)])\n",
    "\n",
    "def mapper_2(x):\n",
    "    j = int(x[0])\n",
    "    edges = len(x[1])\n",
    "    Ed_list = []\n",
    "    for i in range(edges):\n",
    "        i, v = x[1][i]\n",
    "        Ed_list.append((int(i),beta/edges))\n",
    "    return (j,(Ed_list))\n",
    "\n",
    "Transistion_Matrix = inputs.map(mapper_1).reduceByKey(lambda p,q:p+q).map(mapper_2)"
   ]
  },
  {
   "cell_type": "markdown",
   "metadata": {},
   "source": [
    "mapper_1 we map each index txt to format (j,(i,1))\n",
    "then we reduce by key to concatenate it key pairs into (j, [(i,1),(k,1) ...])\n",
    "mapper_2 we map the pairs into (j, [(i,value),(k,value) ...]) where the value is 1 divided by the outgoing edges"
   ]
  },
  {
   "cell_type": "code",
   "execution_count": 37,
   "metadata": {},
   "outputs": [],
   "source": [
    "def rank_init_mapper(x):\n",
    "    num_nodes = 10876\n",
    "    return (x,([1/num_nodes]))\n",
    "\n",
    "rank_init = sc.parallelize(np.arange(num_nodes))\n",
    "rank_inits = rank_init.map(rank_init_mapper)"
   ]
  },
  {
   "cell_type": "markdown",
   "metadata": {},
   "source": [
    "here we initialize the pagerank first by 1/all nodes"
   ]
  },
  {
   "cell_type": "code",
   "execution_count": null,
   "metadata": {},
   "outputs": [],
   "source": [
    "def teleporting(x):\n",
    "    beta = 0.8\n",
    "    num_nodes = 10876\n",
    "    return (x, ((1-beta)/num_nodes))\n",
    "\n",
    "teleport = sc.parallelize(np.arange(num_nodes))\n",
    "teleport_term = teleport.map(teleporting)"
   ]
  },
  {
   "cell_type": "markdown",
   "metadata": {},
   "source": [
    "here we create the teleporting of each page which we will add after the matrix multiplication is done"
   ]
  },
  {
   "cell_type": "code",
   "execution_count": 39,
   "metadata": {},
   "outputs": [],
   "source": [
    "def TM_x_Rank_mapper(x):\n",
    "    \n",
    "    if len(x[1]) == 1:\n",
    "        pass\n",
    "    else:\n",
    "        r = x[1][-1]\n",
    "        for k in range(len(x[1])-1):\n",
    "            print(x[1][k])\n",
    "            i = x[1][k][0]\n",
    "            value = x[1][k][1]*r\n",
    "            yield (i,(value))"
   ]
  },
  {
   "cell_type": "markdown",
   "metadata": {},
   "source": [
    "here we create a mapper that can do the matrix multiplication by (j, [(i,value),(k,value)... r])\n",
    "where r is the page rank that we have in current and output pairs (i, value)"
   ]
  },
  {
   "cell_type": "code",
   "execution_count": 40,
   "metadata": {},
   "outputs": [],
   "source": [
    "def sum_mapper(x):\n",
    "    return (1,x[1])\n",
    "\n",
    "def add_s(x,s):\n",
    "    print(s)\n",
    "    return (x[0],([x[1]+s]))\n",
    "\n",
    "times = 0\n",
    "Rank_new = rank_inits"
   ]
  },
  {
   "cell_type": "markdown",
   "metadata": {},
   "source": [
    "here we create sum_mapper to sum up all the page rank and we will check if it equals to 1\n",
    "and we also create add_s to add the teleporting term after the matrix multiplication"
   ]
  },
  {
   "cell_type": "code",
   "execution_count": 42,
   "metadata": {},
   "outputs": [
    {
     "name": "stdout",
     "output_type": "stream",
     "text": [
      "0\n",
      "1\n",
      "2\n",
      "3\n",
      "4\n",
      "5\n",
      "6\n",
      "7\n",
      "8\n",
      "9\n",
      "10\n",
      "11\n",
      "12\n",
      "13\n",
      "14\n",
      "15\n",
      "16\n",
      "17\n",
      "18\n",
      "19\n"
     ]
    }
   ],
   "source": [
    "while times < 20 :\n",
    "\n",
    "    T_R = Transistion_Matrix.union(Rank_new).reduceByKey(lambda p,q:p+q)\n",
    "    Rank_pre = T_R.flatMap(TM_x_Rank_mapper).reduceByKey(lambda p,q:p+q)\n",
    "    Rank_old = Rank_pre.union(teleport_term).reduceByKey(lambda p,q:p+q)\n",
    "\n",
    "    \n",
    "    check_Rank_old = Rank_old\n",
    "    S = check_Rank_old.map(sum_mapper).reduceByKey(lambda p,q:p+q).collect()[0][1]\n",
    "    S = round(S,8)\n",
    "    if S != 1:\n",
    "        s = (1-S)/num_nodes\n",
    "        Rank_new = Rank_old.map(lambda x:add_s(x,s))\n",
    "    else:\n",
    "        Rank_new = Rank_old\n",
    "    \n",
    "    print(times)\n",
    "    times = times + 1"
   ]
  },
  {
   "cell_type": "markdown",
   "metadata": {},
   "source": [
    "first we union the key value pairs of the transition matrix and the old page rank\n",
    "then we calculate the new pagerank r', then we add the teleporting term\n",
    "after all these, we sum up the ranks and check if it equals to one\n",
    "if not we renormalize it into the new page rank\n",
    "if yes we get our new page rank\n",
    "and follow by the iteration we compute this for 20 iterations"
   ]
  },
  {
   "cell_type": "code",
   "execution_count": 58,
   "metadata": {},
   "outputs": [],
   "source": [
    "Page_Rank = Rank_new.sortByKey().collect()\n",
    "with open(\"Page_Rank.txt\",'w') as f:\n",
    "    for i in Page_Rank:\n",
    "        f.write(str(i[0])+\"\\t\"+str(i[1][0])+\"\\n\")"
   ]
  },
  {
   "cell_type": "markdown",
   "metadata": {},
   "source": [
    "write the result into the txt file"
   ]
  },
  {
   "cell_type": "code",
   "execution_count": null,
   "metadata": {},
   "outputs": [],
   "source": [
    "sc.stop()"
   ]
  },
  {
   "cell_type": "markdown",
   "metadata": {},
   "source": [
    "after finish output to the file we wat to put it in the decreasing order by value\n",
    "so we open the file we saved and reorganized the structure "
   ]
  },
  {
   "cell_type": "code",
   "execution_count": 5,
   "metadata": {},
   "outputs": [
    {
     "name": "stdout",
     "output_type": "stream",
     "text": [
      "0\t (1056, 0.0006321988065666042)\n",
      "1\t (1054, 0.0006291557098509748)\n",
      "2\t (1536, 0.0005239103372466644)\n",
      "3\t (171, 0.0005116224681556148)\n",
      "4\t (453, 0.000495658645299187)\n",
      "5\t (407, 0.0004848441973200729)\n",
      "6\t (263, 0.00047961928702500796)\n",
      "7\t (4664, 0.000470497549157698)\n",
      "8\t (261, 0.0004628915843548081)\n",
      "9\t (410, 0.00046151003608277695)\n",
      "10\t (1959, 0.00046052908830341416)\n"
     ]
    }
   ],
   "source": [
    "PR_txt = \"Page_Rank.txt\"\n",
    "with open(PR_txt,'r') as f:\n",
    "    lines = f.readlines()\n",
    "\n",
    "Lines = {}\n",
    "\n",
    "for i in range(len(lines)):\n",
    "    \n",
    "    Lines[i] = float(lines[i].split(\"\\t\")[1].split(\"\\n\")[0])\n",
    "\n",
    "Top_2_Low_PR = sorted(Lines.items(), reverse=True,key=lambda x:x[1])\n",
    "\n",
    "with open(\"PageRank.txt\",'w') as F:\n",
    "    for i in range(len(Top_2_Low_PR)):\n",
    "        F.write(str(Top_2_Low_PR[i][0])+\"\\t\"+str(Top_2_Low_PR[i][1])+\"\\n\")\n",
    "        if i <= 10:\n",
    "            print(\"{}\\t\".format(i),Top_2_Low_PR[i])\n",
    "        "
   ]
  },
  {
   "cell_type": "code",
   "execution_count": null,
   "metadata": {},
   "outputs": [],
   "source": []
  }
 ],
 "metadata": {
  "kernelspec": {
   "display_name": "Python 3",
   "language": "python",
   "name": "python3"
  },
  "language_info": {
   "codemirror_mode": {
    "name": "ipython",
    "version": 3
   },
   "file_extension": ".py",
   "mimetype": "text/x-python",
   "name": "python",
   "nbconvert_exporter": "python",
   "pygments_lexer": "ipython3",
   "version": "3.7.4"
  }
 },
 "nbformat": 4,
 "nbformat_minor": 2
}
