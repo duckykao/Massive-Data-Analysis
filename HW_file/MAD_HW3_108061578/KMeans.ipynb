{
 "cells": [
  {
   "cell_type": "code",
   "execution_count": 1,
   "metadata": {},
   "outputs": [],
   "source": [
    "import findspark\n",
    "findspark.init()\n",
    "findspark.find()\n",
    "import pyspark\n",
    "from pyspark import SparkConf, SparkContext\n",
    "import numpy as np"
   ]
  },
  {
   "cell_type": "code",
   "execution_count": 2,
   "metadata": {},
   "outputs": [],
   "source": [
    "conf = SparkConf().setMaster(\"local\").setAppName(\"KMeans\")\n",
    "sc = SparkContext(conf = conf)"
   ]
  },
  {
   "cell_type": "code",
   "execution_count": 3,
   "metadata": {},
   "outputs": [],
   "source": [
    "c1 = sc.textFile(\"hw3-q2-kmeans\\\\c1.txt\")\n",
    "c2 = sc.textFile(\"hw3-q2-kmeans\\\\c2.txt\")\n",
    "data = sc.textFile(\"hw3-q2-kmeans\\\\data.txt\")"
   ]
  },
  {
   "cell_type": "markdown",
   "metadata": {},
   "source": [
    "load the initial points and the data "
   ]
  },
  {
   "cell_type": "code",
   "execution_count": 4,
   "metadata": {},
   "outputs": [],
   "source": [
    "c1 = [x.split(\" \") for x in c1.collect()]\n",
    "c2 = [x.split(\" \") for x in c2.collect()]"
   ]
  },
  {
   "cell_type": "markdown",
   "metadata": {},
   "source": [
    "change the initial points into list for later usage"
   ]
  },
  {
   "cell_type": "code",
   "execution_count": 5,
   "metadata": {},
   "outputs": [],
   "source": [
    "# pyspark how to pass parameters into mapper\n",
    "# https://stackoverflow.com/questions/33019420/spark-rdd-mapping-with-extra-arguments\n",
    "def Distance_process(c1,dist):\n",
    "    def Euclidean_dist(x):\n",
    "        D = []\n",
    "        x = x.split(\" \")\n",
    "        for i in c1:\n",
    "            dist = np.sqrt(sum([(float(a)-float(b))**2 for a,b in zip(i,x)]))\n",
    "            D.append(dist)\n",
    "        m = np.argmin(D)\n",
    "        return (m,(x,min(D)**2))\n",
    "    \n",
    "    def Manhanttan_dist(x):\n",
    "        D = []\n",
    "        x = x.split(\" \")\n",
    "        for i in c1:\n",
    "            dist = sum([abs(float(a)-float(b)) for a,b in zip(i,x)])\n",
    "            D.append(dist)\n",
    "        m = np.argmin(D)\n",
    "        return (m,(x,min(D)))\n",
    "    \n",
    "    if dist == \"Euclidean\":\n",
    "        return Euclidean_dist\n",
    "    elif dist == \"Manhanttan\":\n",
    "        return Manhanttan_dist\n",
    "    else:\n",
    "        raise 'must be either Euclidean or Manhanttan'"
   ]
  },
  {
   "cell_type": "markdown",
   "metadata": {},
   "source": [
    "in order to pass down arguments into the mapping function, we can create an anonymous function\n",
    "and pass arguments through it and inside we compute the Euclidean distance and Manhanttan distance and output the key-value pair\n",
    "(closest_centroid, (the_point, the distance))"
   ]
  },
  {
   "cell_type": "code",
   "execution_count": 6,
   "metadata": {},
   "outputs": [],
   "source": [
    "def New_points_mapper(x):\n",
    "    for i in range(58):\n",
    "        yield ((x[0],i),str(x[1][0][i]+\" \"))"
   ]
  },
  {
   "cell_type": "markdown",
   "metadata": {},
   "source": [
    "in order to average of the points, we first create a key-value pair\n",
    "(which_centroid, which_element_in_the_centroid, each_value_in_str)\n",
    "later we will use the reduceByKey to augment them together\n",
    "and with str value we can count how many points are belongs to this cluster"
   ]
  },
  {
   "cell_type": "code",
   "execution_count": 7,
   "metadata": {},
   "outputs": [],
   "source": [
    "def New_pts(x):\n",
    "    v_l = x[1].split(\" \")[:-1]\n",
    "    v = sum([float(x) for x in v_l])/len(v_l)\n",
    "    return [x[0][0],x[0][1],v]"
   ]
  },
  {
   "cell_type": "markdown",
   "metadata": {},
   "source": [
    "with the previous mapper function we can easily compute the average and output the pair of \n",
    "(which_centroid, which_element_in_the_centroid, new_element_of_the_points) "
   ]
  },
  {
   "cell_type": "code",
   "execution_count": 8,
   "metadata": {},
   "outputs": [],
   "source": [
    "def sum_cost(x):\n",
    "    return ((1),x[1][1])"
   ]
  },
  {
   "cell_type": "markdown",
   "metadata": {},
   "source": [
    "create a mapper to speed up the counting process of the total sum"
   ]
  },
  {
   "cell_type": "code",
   "execution_count": 9,
   "metadata": {},
   "outputs": [],
   "source": [
    "def RUN_ALL(center_set, distance):\n",
    "    COST = []\n",
    "    times = 0 \n",
    "    while times < 20:\n",
    "        part_1 = data.map(Distance_process(center_set,distance))\n",
    "\n",
    "        cost = part_1.map(sum_cost).reduceByKey(lambda p,q:p+q).collect()\n",
    "\n",
    "        new_pt = part_1.flatMap(New_points_mapper).reduceByKey(lambda p,q:p+q).map(New_pts).collect()\n",
    "\n",
    "        New_center = [new_pt[i:i+58] for i in range(0,580,58)]\n",
    "        N = []\n",
    "        for i in range(10):\n",
    "            n = []\n",
    "            for j in range(58):\n",
    "                n.append(str(New_center[i][j][2]))\n",
    "            N.append(n)\n",
    "        center_set = N\n",
    "        COST.append(cost)\n",
    "        print(times) \n",
    "        times = times + 1\n",
    "    \n",
    "    return COST, center_set"
   ]
  },
  {
   "cell_type": "markdown",
   "metadata": {},
   "source": [
    "here we augment all the mapper and reducer to get our wanted result, including the cost and the certroids"
   ]
  },
  {
   "cell_type": "code",
   "execution_count": 10,
   "metadata": {},
   "outputs": [
    {
     "name": "stdout",
     "output_type": "stream",
     "text": [
      "0\n",
      "1\n",
      "2\n",
      "3\n",
      "4\n",
      "5\n",
      "6\n",
      "7\n",
      "8\n",
      "9\n",
      "10\n",
      "11\n",
      "12\n",
      "13\n",
      "14\n",
      "15\n",
      "16\n",
      "17\n",
      "18\n",
      "19\n",
      "0\n",
      "1\n",
      "2\n",
      "3\n",
      "4\n",
      "5\n",
      "6\n",
      "7\n",
      "8\n",
      "9\n",
      "10\n",
      "11\n",
      "12\n",
      "13\n",
      "14\n",
      "15\n",
      "16\n",
      "17\n",
      "18\n",
      "19\n",
      "0\n",
      "1\n",
      "2\n",
      "3\n",
      "4\n",
      "5\n",
      "6\n",
      "7\n",
      "8\n",
      "9\n",
      "10\n",
      "11\n",
      "12\n",
      "13\n",
      "14\n",
      "15\n",
      "16\n",
      "17\n",
      "18\n",
      "19\n",
      "0\n",
      "1\n",
      "2\n",
      "3\n",
      "4\n",
      "5\n",
      "6\n",
      "7\n",
      "8\n",
      "9\n",
      "10\n",
      "11\n",
      "12\n",
      "13\n",
      "14\n",
      "15\n",
      "16\n",
      "17\n",
      "18\n",
      "19\n"
     ]
    }
   ],
   "source": [
    "c1_Euc_COST,c1_Euc_Center = RUN_ALL(c1,\"Euclidean\")\n",
    "c1_Man_COST,c1_Man_Center = RUN_ALL(c1,\"Manhanttan\")\n",
    "c2_Euc_COST,c2_Euc_Center = RUN_ALL(c2,\"Euclidean\")\n",
    "c2_Man_COST,c2_Man_Center = RUN_ALL(c2,\"Manhanttan\")"
   ]
  },
  {
   "cell_type": "markdown",
   "metadata": {},
   "source": [
    "we run the code with different initial points and different distance function"
   ]
  },
  {
   "cell_type": "code",
   "execution_count": 11,
   "metadata": {},
   "outputs": [],
   "source": [
    "sc.stop()"
   ]
  },
  {
   "cell_type": "code",
   "execution_count": 12,
   "metadata": {},
   "outputs": [],
   "source": [
    "with open(\"c1_Euc_Center.txt\",'w') as f:\n",
    "    for i in range(10):\n",
    "        for j in range(58):\n",
    "            f.write(str(c1_Euc_Center[i][j])+\" \")\n",
    "        f.write(\"\\n\")\n",
    "\n",
    "with open(\"c1_Man_Center.txt\",'w') as f:\n",
    "    for i in range(10):\n",
    "        for j in range(58):\n",
    "            f.write(str(c1_Man_Center[i][j])+\" \")\n",
    "        f.write(\"\\n\")\n",
    "        \n",
    "with open(\"c2_Euc_Center.txt\",'w') as f:\n",
    "    for i in range(10):\n",
    "        for j in range(58):\n",
    "            f.write(str(c2_Euc_Center[i][j])+\" \")\n",
    "        f.write(\"\\n\")\n",
    "    \n",
    "with open(\"c2_Man_Center.txt\",'w') as f:\n",
    "    for i in range(10):\n",
    "        for j in range(58):\n",
    "            f.write(str(c2_Man_Center[i][j])+\" \")\n",
    "        f.write(\"\\n\")\n"
   ]
  },
  {
   "cell_type": "markdown",
   "metadata": {},
   "source": [
    "we output each result to txt file "
   ]
  },
  {
   "cell_type": "code",
   "execution_count": 18,
   "metadata": {},
   "outputs": [],
   "source": [
    "with open(\"c1_Euc_COST.txt\",'w') as f:\n",
    "    for i in range(len(c1_Euc_COST)):\n",
    "        f.write(str(c1_Euc_COST[i][0][1])+\"\\n\")\n",
    "        \n",
    "with open(\"c1_Man_COST.txt\",'w') as f:\n",
    "    for i in range(len(c1_Man_COST)):\n",
    "        f.write(str(c1_Man_COST[i][0][1])+\"\\n\")\n",
    "        \n",
    "with open(\"c2_Euc_COST.txt\",'w') as f:\n",
    "    for i in range(len(c2_Euc_COST)):\n",
    "        f.write(str(c2_Euc_COST[i][0][1])+\"\\n\")\n",
    "        \n",
    "with open(\"c2_Man_COST.txt\",'w') as f:\n",
    "    for i in range(len(c2_Man_COST)):\n",
    "        f.write(str(c2_Man_COST[i][0][1])+\"\\n\")"
   ]
  },
  {
   "cell_type": "code",
   "execution_count": 52,
   "metadata": {},
   "outputs": [],
   "source": [
    "def compute_distance_btw_centroid(x):\n",
    "    EUC = []\n",
    "    MAN = []\n",
    "    for i in range(10):\n",
    "        for j in range(i,10):\n",
    "            euc = 0\n",
    "            man = 0\n",
    "            for k in range(len(x[0])):\n",
    "                euc = euc + (float(x[i][k]) - float(x[j][k]))**2\n",
    "                man = man + abs(float(x[i][k]) - float(x[j][k]))\n",
    "            EUC.append(euc)\n",
    "            MAN.append(man)\n",
    "    return EUC, MAN"
   ]
  },
  {
   "cell_type": "code",
   "execution_count": 53,
   "metadata": {},
   "outputs": [],
   "source": [
    "# c1_Euc_Center\n",
    "EUC_c1_EUC, MAN_c1_EUC = compute_distance_btw_centroid(c1_Euc_Center)\n",
    "with open(\"HW3_result\\\\centroid_distance\\\\EUC_c1_EUC.txt\",'w') as f:\n",
    "    for i in EUC_c1_EUC:\n",
    "        f.write(str(i))\n",
    "        f.write(\"\\n\")\n",
    "        \n",
    "with open(\"HW3_result\\\\centroid_distance\\\\MAN_c1_EUC.txt\",'w') as f:\n",
    "    for i in MAN_c1_EUC:\n",
    "        f.write(str(i))\n",
    "        f.write(\"\\n\")"
   ]
  },
  {
   "cell_type": "code",
   "execution_count": 54,
   "metadata": {},
   "outputs": [],
   "source": [
    "# c1_Man_Center\n",
    "EUC_c1_Man, MAN_c1_Man = compute_distance_btw_centroid(c1_Man_Center)\n",
    "with open(\"HW3_result\\\\centroid_distance\\\\EUC_c1_Man.txt\",'w') as f:\n",
    "    for i in EUC_c1_Man:\n",
    "        f.write(str(i))\n",
    "        f.write(\"\\n\")\n",
    "        \n",
    "with open(\"HW3_result\\\\centroid_distance\\\\MAN_c1_Man.txt\",'w') as f:\n",
    "    for i in MAN_c1_Man:\n",
    "        f.write(str(i))\n",
    "        f.write(\"\\n\")"
   ]
  },
  {
   "cell_type": "code",
   "execution_count": 55,
   "metadata": {},
   "outputs": [],
   "source": [
    "# c2_Euc_Center\n",
    "EUC_c2_EUC, MAN_c2_EUC = compute_distance_btw_centroid(c2_Euc_Center)\n",
    "with open(\"HW3_result\\\\centroid_distance\\\\EUC_c2_EUC.txt\",'w') as f:\n",
    "    for i in EUC_c2_EUC:\n",
    "        f.write(str(i))\n",
    "        f.write(\"\\n\")\n",
    "        \n",
    "with open(\"HW3_result\\\\centroid_distance\\\\MAN_c2_EUC.txt\",'w') as f:\n",
    "    for i in MAN_c2_EUC:\n",
    "        f.write(str(i))\n",
    "        f.write(\"\\n\")"
   ]
  },
  {
   "cell_type": "code",
   "execution_count": 56,
   "metadata": {},
   "outputs": [],
   "source": [
    "# c2_Man_Center\n",
    "EUC_c2_Man, MAN_c2_Man = compute_distance_btw_centroid(c2_Man_Center)\n",
    "with open(\"HW3_result\\\\centroid_distance\\\\EUC_c2_Man.txt\",'w') as f:\n",
    "    for i in EUC_c2_Man:\n",
    "        f.write(str(i))\n",
    "        f.write(\"\\n\")\n",
    "        \n",
    "with open(\"HW3_result\\\\centroid_distance\\\\MAN_c2_Man.txt\",'w') as f:\n",
    "    for i in MAN_c2_Man:\n",
    "        f.write(str(i))\n",
    "        f.write(\"\\n\")"
   ]
  },
  {
   "attachments": {},
   "cell_type": "markdown",
   "metadata": {},
   "source": []
  },
  {
   "cell_type": "code",
   "execution_count": null,
   "metadata": {},
   "outputs": [],
   "source": []
  }
 ],
 "metadata": {
  "kernelspec": {
   "display_name": "Python 3",
   "language": "python",
   "name": "python3"
  },
  "language_info": {
   "codemirror_mode": {
    "name": "ipython",
    "version": 3
   },
   "file_extension": ".py",
   "mimetype": "text/x-python",
   "name": "python",
   "nbconvert_exporter": "python",
   "pygments_lexer": "ipython3",
   "version": "3.7.3"
  }
 },
 "nbformat": 4,
 "nbformat_minor": 2
}
